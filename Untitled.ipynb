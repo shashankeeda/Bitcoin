{
 "cells": [
  {
   "cell_type": "code",
   "execution_count": 4,
   "id": "f14db550",
   "metadata": {},
   "outputs": [],
   "source": [
    "import pandas as pd\n",
    "\n",
    "ETH = pd.read_csv('Bitfinex_ETHUSD_d.csv')\n",
    "BTH = pd.read_csv('Bitstamp_BCHUSD_d.csv')\n",
    "XRP = pd.read_csv('Bitstamp_XRPUSD_d.csv')\n",
    "BTC = pd.read_csv('gemini_BTCUSD_day.csv')\n",
    "XMR = pd.read_csv('Poloniex_XMRUSD_d-1.csv')\n",
    "ZRX = pd.read_csv('Poloniex_ZRXUSDT_d.csv')\n",
    "cryptos = [BTC,ETH,BTH,XRP,XMR,ZRX]"
   ]
  },
  {
   "cell_type": "markdown",
   "id": "f46f9cd5",
   "metadata": {},
   "source": [
    "### Attributes"
   ]
  },
  {
   "cell_type": "code",
   "execution_count": null,
   "id": "0bb10f7e",
   "metadata": {},
   "outputs": [],
   "source": [
    "import \n",
    "for currency in cryptos:\n",
    "    "
   ]
  }
 ],
 "metadata": {
  "kernelspec": {
   "display_name": "Python 3",
   "language": "python",
   "name": "python3"
  },
  "language_info": {
   "codemirror_mode": {
    "name": "ipython",
    "version": 3
   },
   "file_extension": ".py",
   "mimetype": "text/x-python",
   "name": "python",
   "nbconvert_exporter": "python",
   "pygments_lexer": "ipython3",
   "version": "3.8.8"
  }
 },
 "nbformat": 4,
 "nbformat_minor": 5
}
